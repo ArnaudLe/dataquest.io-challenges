{
 "cells": [
  {
   "cell_type": "code",
   "execution_count": 11,
   "metadata": {
    "collapsed": false
   },
   "outputs": [
    {
     "name": "stdout",
     "output_type": "stream",
     "text": [
      "['name', 'team', 'games', 'category', 'desc.', 'year', 'source']\n",
      "{'1998': 2, '1993': 1, '1986': 1, '2013': 40, '2003': 9, '2014': 29, '2006': 11, '2005': 8, '2000': 1, '1983': 1, '   ': 1, '2010': 21, '2002': 7, '1990': 3, '2004': 6, '1997': 3, '2001': 3, '2008': 10, '2011': 13, '2009': 10, '1946': 1, '1989': 17, '2012': 45, '1995': 1, '1963': 1, '1999': 5, '1994': 1, '1947': 1, '2007': 17}\n"
     ]
    }
   ],
   "source": [
    "## Introduction\n",
    "\n",
    "import csv\n",
    "\n",
    "# Ouverture du fichier CSV et conversion en liste\n",
    "f = open(\"nfl-suspensions-data.csv\", \"r\")\n",
    "csvreader = csv.reader(f)\n",
    "nfl_suspensions = list(csvreader)\n",
    "\n",
    "print(nfl_suspensions[0])\n",
    "\n",
    "# On retire le header de la liste\n",
    "nfl_suspensions = nfl_suspensions[1:]\n",
    "\n",
    "# Occurence année\n",
    "years = {}\n",
    "for nfl in nfl_suspensions:\n",
    "    row_year = nfl[5] # year value\n",
    "    if row_year in years:\n",
    "        years[row_year] += 1\n",
    "    else:\n",
    "        years[row_year] = 1\n",
    "\n",
    "print(years)"
   ]
  },
  {
   "cell_type": "code",
   "execution_count": 13,
   "metadata": {
    "collapsed": false
   },
   "outputs": [
    {
     "name": "stdout",
     "output_type": "stream",
     "text": [
      "{'PIT', 'WAS', 'MIA', 'JAX', 'IND', 'TB', 'SEA', 'ARI', 'DET', 'NO', 'BUF', 'CHI', 'ATL', 'DEN', 'MIN', 'GB', 'PHI', 'SD', 'NYG', 'BAL', 'LA', 'OAK', 'DAL', 'FREE', 'KC', 'HOU', 'SF', 'CAR', 'CIN', 'NE', 'STL', 'CLE', 'TEN', 'NYJ'}\n",
      "{'8', '6', '14', '10', '32', '16', '5', '3', '2', '4', '20', '36', '1', 'Indef.'}\n"
     ]
    }
   ],
   "source": [
    "### Unique Values\n",
    "\n",
    "# Set des équipes\n",
    "team = [nfl[1] for nfl in nfl_suspensions]\n",
    "unique_teams = set(team)\n",
    "\n",
    "# Set des games (number of games suspended)\n",
    "games = [nfl[2] for nfl in nfl_suspensions]\n",
    "unique_games = set(games)\n",
    "\n",
    "print(unique_teams)\n",
    "print(unique_games)"
   ]
  },
  {
   "cell_type": "code",
   "execution_count": 19,
   "metadata": {
    "collapsed": false
   },
   "outputs": [],
   "source": [
    "### Suspension Class\n",
    "\n",
    "class Suspension:\n",
    "    def __init__(self, row):\n",
    "        self.name = row[0]\n",
    "        self.team = row[1]\n",
    "        self.games = row[2]\n",
    "        \n",
    "        try:\n",
    "            self.year = int(row[5])\n",
    "        except:\n",
    "            self.year = 0\n",
    "            \n",
    "    def get_year(self):\n",
    "        return(self.year)\n",
    "        \n",
    "        \n",
    "third_suspension = Suspension(nfl_suspensions[2])\n",
    "missing_year = Suspension(nfl_suspensions[22])\n",
    "twenty_third_year = missing_year.get_year()\n",
    "        "
   ]
  }
 ],
 "metadata": {
  "anaconda-cloud": {},
  "kernelspec": {
   "display_name": "Python [default]",
   "language": "python",
   "name": "python3"
  },
  "language_info": {
   "codemirror_mode": {
    "name": "ipython",
    "version": 3
   },
   "file_extension": ".py",
   "mimetype": "text/x-python",
   "name": "python",
   "nbconvert_exporter": "python",
   "pygments_lexer": "ipython3",
   "version": "3.5.2"
  }
 },
 "nbformat": 4,
 "nbformat_minor": 1
}
